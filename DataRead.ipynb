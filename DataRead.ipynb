{
 "cells": [
  {
   "cell_type": "code",
   "execution_count": 1,
   "metadata": {},
   "outputs": [],
   "source": [
    "import datetime\n",
    "import pandas as pd\n",
    "import glob\n",
    "import numpy as np\n",
    "from sqlalchemy import create_engine\n",
    "from helper_functions import save_data"
   ]
  },
  {
   "cell_type": "markdown",
   "metadata": {},
   "source": [
    "## Reading the stations\n",
    "\n",
    "First load the file `stations.csv` to see what is inside. Therefore i loaded a stations file of the last month. Here a short description of the information inside:\n",
    "\n",
    "`uuid,name,brand,street,house_number,post_code,city,latitude,longitude`\n",
    "\n"
   ]
  },
  {
   "cell_type": "code",
   "execution_count": 2,
   "metadata": {},
   "outputs": [],
   "source": [
    "# change the directory as necessary\n",
    "stations_pd = pd.read_csv('e:/Working/sprit/stations.csv')"
   ]
  },
  {
   "cell_type": "code",
   "execution_count": 3,
   "metadata": {},
   "outputs": [
    {
     "data": {
      "text/html": [
       "<div>\n",
       "<style scoped>\n",
       "    .dataframe tbody tr th:only-of-type {\n",
       "        vertical-align: middle;\n",
       "    }\n",
       "\n",
       "    .dataframe tbody tr th {\n",
       "        vertical-align: top;\n",
       "    }\n",
       "\n",
       "    .dataframe thead th {\n",
       "        text-align: right;\n",
       "    }\n",
       "</style>\n",
       "<table border=\"1\" class=\"dataframe\">\n",
       "  <thead>\n",
       "    <tr style=\"text-align: right;\">\n",
       "      <th></th>\n",
       "      <th>uuid</th>\n",
       "      <th>name</th>\n",
       "      <th>brand</th>\n",
       "      <th>street</th>\n",
       "      <th>house_number</th>\n",
       "      <th>post_code</th>\n",
       "      <th>city</th>\n",
       "      <th>latitude</th>\n",
       "      <th>longitude</th>\n",
       "      <th>first_active</th>\n",
       "      <th>openingtimes_json</th>\n",
       "    </tr>\n",
       "  </thead>\n",
       "  <tbody>\n",
       "    <tr>\n",
       "      <th>0</th>\n",
       "      <td>ad812258-94e7-473d-aa80-d392f7532218</td>\n",
       "      <td>bft Bonn-Bad Godesberg</td>\n",
       "      <td>bft</td>\n",
       "      <td>Godesberger Allee</td>\n",
       "      <td>55</td>\n",
       "      <td>53175</td>\n",
       "      <td>Bonn</td>\n",
       "      <td>50.695100</td>\n",
       "      <td>7.142760</td>\n",
       "      <td>1970-01-01 01:00:00+01</td>\n",
       "      <td>{\"openingTimes\":[{\"applicable_days\":32,\"period...</td>\n",
       "    </tr>\n",
       "    <tr>\n",
       "      <th>1</th>\n",
       "      <td>44e2bdb7-13e3-4156-8576-8326cdd20459</td>\n",
       "      <td>bft Tankstelle</td>\n",
       "      <td>NaN</td>\n",
       "      <td>Schellengasse</td>\n",
       "      <td>53</td>\n",
       "      <td>36304</td>\n",
       "      <td>Alsfeld</td>\n",
       "      <td>50.752010</td>\n",
       "      <td>9.279039</td>\n",
       "      <td>1970-01-01 01:00:00+01</td>\n",
       "      <td>{\"openingTimes\":[{\"applicable_days\":63,\"period...</td>\n",
       "    </tr>\n",
       "    <tr>\n",
       "      <th>2</th>\n",
       "      <td>0e18d0d3-ed38-4e7f-a18e-507a78ad901d</td>\n",
       "      <td>OIL! Tankstelle München</td>\n",
       "      <td>OIL!</td>\n",
       "      <td>Eversbuschstraße 33</td>\n",
       "      <td>NaN</td>\n",
       "      <td>80999</td>\n",
       "      <td>München</td>\n",
       "      <td>48.180700</td>\n",
       "      <td>11.460900</td>\n",
       "      <td>1970-01-01 01:00:00+01</td>\n",
       "      <td>{\"openingTimes\":[{\"applicable_days\":63,\"period...</td>\n",
       "    </tr>\n",
       "    <tr>\n",
       "      <th>3</th>\n",
       "      <td>db0655ed-4b94-4c12-a75d-26b2d6a38759</td>\n",
       "      <td>AVIA Albstadt-Ebingen</td>\n",
       "      <td>AVIA</td>\n",
       "      <td>Lautlinger Str.</td>\n",
       "      <td>3</td>\n",
       "      <td>72458</td>\n",
       "      <td>Albstadt</td>\n",
       "      <td>48.212800</td>\n",
       "      <td>9.012450</td>\n",
       "      <td>2014-03-18 16:45:31+01</td>\n",
       "      <td>{\"openingTimes\":[{\"applicable_days\":63,\"period...</td>\n",
       "    </tr>\n",
       "    <tr>\n",
       "      <th>4</th>\n",
       "      <td>6a625a13-310c-43fb-8316-4e8027a54510</td>\n",
       "      <td>Aral Tankstelle</td>\n",
       "      <td>ARAL</td>\n",
       "      <td>Leipziger Straße</td>\n",
       "      <td>208</td>\n",
       "      <td>08058</td>\n",
       "      <td>Zwickau</td>\n",
       "      <td>50.742687</td>\n",
       "      <td>12.488169</td>\n",
       "      <td>2014-03-18 16:45:31+01</td>\n",
       "      <td>{}</td>\n",
       "    </tr>\n",
       "  </tbody>\n",
       "</table>\n",
       "</div>"
      ],
      "text/plain": [
       "                                   uuid                     name brand  \\\n",
       "0  ad812258-94e7-473d-aa80-d392f7532218   bft Bonn-Bad Godesberg   bft   \n",
       "1  44e2bdb7-13e3-4156-8576-8326cdd20459           bft Tankstelle   NaN   \n",
       "2  0e18d0d3-ed38-4e7f-a18e-507a78ad901d  OIL! Tankstelle München  OIL!   \n",
       "3  db0655ed-4b94-4c12-a75d-26b2d6a38759    AVIA Albstadt-Ebingen  AVIA   \n",
       "4  6a625a13-310c-43fb-8316-4e8027a54510          Aral Tankstelle  ARAL   \n",
       "\n",
       "                street house_number post_code      city   latitude  longitude  \\\n",
       "0    Godesberger Allee           55     53175      Bonn  50.695100   7.142760   \n",
       "1       Schellengasse            53     36304   Alsfeld  50.752010   9.279039   \n",
       "2  Eversbuschstraße 33          NaN     80999   München  48.180700  11.460900   \n",
       "3     Lautlinger Str.             3     72458  Albstadt  48.212800   9.012450   \n",
       "4     Leipziger Straße          208     08058   Zwickau  50.742687  12.488169   \n",
       "\n",
       "             first_active                                  openingtimes_json  \n",
       "0  1970-01-01 01:00:00+01  {\"openingTimes\":[{\"applicable_days\":32,\"period...  \n",
       "1  1970-01-01 01:00:00+01  {\"openingTimes\":[{\"applicable_days\":63,\"period...  \n",
       "2  1970-01-01 01:00:00+01  {\"openingTimes\":[{\"applicable_days\":63,\"period...  \n",
       "3  2014-03-18 16:45:31+01  {\"openingTimes\":[{\"applicable_days\":63,\"period...  \n",
       "4  2014-03-18 16:45:31+01                                                 {}  "
      ]
     },
     "execution_count": 3,
     "metadata": {},
     "output_type": "execute_result"
    }
   ],
   "source": [
    "stations_pd.head()"
   ]
  },
  {
   "cell_type": "code",
   "execution_count": 4,
   "metadata": {},
   "outputs": [
    {
     "data": {
      "text/plain": [
       "(15859, 11)"
      ]
     },
     "execution_count": 4,
     "metadata": {},
     "output_type": "execute_result"
    }
   ],
   "source": [
    "stations_pd.shape"
   ]
  },
  {
   "cell_type": "code",
   "execution_count": 5,
   "metadata": {},
   "outputs": [
    {
     "name": "stdout",
     "output_type": "stream",
     "text": [
      "<class 'pandas.core.frame.DataFrame'>\n",
      "RangeIndex: 15859 entries, 0 to 15858\n",
      "Data columns (total 11 columns):\n",
      "uuid                 15859 non-null object\n",
      "name                 15859 non-null object\n",
      "brand                15243 non-null object\n",
      "street               15856 non-null object\n",
      "house_number         12014 non-null object\n",
      "post_code            15856 non-null object\n",
      "city                 15855 non-null object\n",
      "latitude             15859 non-null float64\n",
      "longitude            15859 non-null float64\n",
      "first_active         15859 non-null object\n",
      "openingtimes_json    15859 non-null object\n",
      "dtypes: float64(2), object(9)\n",
      "memory usage: 1.3+ MB\n"
     ]
    }
   ],
   "source": [
    "stations_pd.info()"
   ]
  },
  {
   "cell_type": "code",
   "execution_count": 6,
   "metadata": {},
   "outputs": [],
   "source": [
    "# want to see all stations around zip-code 40xxx\n",
    "short_pd = stations_pd.dropna(subset=['post_code'])\n",
    "short_pd = short_pd[short_pd['post_code'].str.match(pat = '40\\d{3}')]"
   ]
  },
  {
   "cell_type": "markdown",
   "metadata": {},
   "source": [
    "## Reading Prices\n",
    "\n",
    "The prices are organized in folders for every year and month and is really big data (around 5 GB per year). Therefore i've build a function to load the Data per year and extract only a few data for stations in short_pd. Also i replace wrong values with np.nan.\n",
    "The pricesxxx.csv are in the following format:\n",
    "\n",
    "`date,station_uuid,diesel,e5,e10,dieselchange,e5change,e10change`"
   ]
  },
  {
   "cell_type": "code",
   "execution_count": 7,
   "metadata": {},
   "outputs": [],
   "source": [
    "\n",
    "def read_data_year(year):\n",
    "    '''\n",
    "    read all relevant data for year x\n",
    "    Output: dataframe with all prices for region 40x and year'''\n",
    "    print('Read year {}'.format(year))\n",
    "    files = glob.glob('e:/Working/sprit/{}/*/*'.format(year))\n",
    "    prices = [pd.read_csv(file, usecols=['date', 'station_uuid', 'diesel', 'e5', 'e10']) for file in files]\n",
    "    prices_pd = pd.concat(prices, sort=False)\n",
    "    data_pd = prices_pd[prices_pd['station_uuid'].isin(short_pd['uuid'])][['date', 'station_uuid', 'diesel', 'e5', 'e10']]\n",
    "    return data_pd\n",
    "\n",
    "def read_data():\n",
    "    '''\n",
    "    read all data and make some conversions\n",
    "    Output: dataframe with datetimeindex and station_uuid as category'''\n",
    "    prices = read_data_year('2015')\n",
    "    prices = prices.append(read_data_year('2016'))\n",
    "    prices = prices.append(read_data_year('2017'))\n",
    "    prices = prices.append(read_data_year('2018'))\n",
    "    prices = prices.append(read_data_year('2019'))\n",
    "\n",
    "    # replace wrong data with nan \n",
    "    prices['diesel'] = prices['diesel'].apply(lambda x: np.nan if x < 0.5 else x)\n",
    "    prices['e5'] = prices['e5'].apply(lambda x: np.nan if x < 0.5 else x)\n",
    "    prices['e10'] = prices['e10'].apply(lambda x: np.nan if x < 0.5 else x)\n",
    "    prices.station_uuid = prices.station_uuid.astype('category')\n",
    "    prices.date = pd.to_datetime(prices.date, utc=True)\n",
    "    return prices"
   ]
  },
  {
   "cell_type": "code",
   "execution_count": 8,
   "metadata": {},
   "outputs": [
    {
     "name": "stdout",
     "output_type": "stream",
     "text": [
      "Read year 2015\n",
      "Read year 2016\n",
      "Read year 2017\n",
      "Read year 2018\n",
      "Read year 2019\n"
     ]
    }
   ],
   "source": [
    "# Reading of all relevant data\n",
    "prices_pd = read_data()"
   ]
  },
  {
   "cell_type": "code",
   "execution_count": 9,
   "metadata": {},
   "outputs": [
    {
     "name": "stdout",
     "output_type": "stream",
     "text": [
      "<class 'pandas.core.frame.DataFrame'>\n",
      "Int64Index: 2677793 entries, 74 to 248042\n",
      "Data columns (total 5 columns):\n",
      "date            datetime64[ns, UTC]\n",
      "station_uuid    category\n",
      "diesel          float64\n",
      "e5              float64\n",
      "e10             float64\n",
      "dtypes: category(1), datetime64[ns, UTC](1), float64(3)\n",
      "memory usage: 107.3 MB\n"
     ]
    }
   ],
   "source": [
    "prices_pd.info()"
   ]
  },
  {
   "cell_type": "code",
   "execution_count": 10,
   "metadata": {},
   "outputs": [],
   "source": [
    "# run this cell only if you read new csv files, it will overwrite the sql file \n",
    "\n",
    "save_data(prices_pd, 'Prices', './Data/prices_40.sql')\n",
    "save_data(stations_pd, 'Stations', './Data/prices_40.sql')"
   ]
  },
  {
   "cell_type": "code",
   "execution_count": null,
   "metadata": {},
   "outputs": [],
   "source": []
  }
 ],
 "metadata": {
  "kernelspec": {
   "display_name": "Python 3",
   "language": "python",
   "name": "python3"
  },
  "language_info": {
   "codemirror_mode": {
    "name": "ipython",
    "version": 3
   },
   "file_extension": ".py",
   "mimetype": "text/x-python",
   "name": "python",
   "nbconvert_exporter": "python",
   "pygments_lexer": "ipython3",
   "version": "3.7.5"
  }
 },
 "nbformat": 4,
 "nbformat_minor": 4
}
